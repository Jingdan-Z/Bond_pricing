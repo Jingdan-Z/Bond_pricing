{
 "cells": [
  {
   "cell_type": "markdown",
   "metadata": {},
   "source": [
    "# Calculate bond duration and convexity"
   ]
  },
  {
   "cell_type": "code",
   "execution_count": 64,
   "metadata": {},
   "outputs": [],
   "source": [
    "import numpy as np\n",
    "import matplotlib.pyplot as plt\n",
    "%matplotlib inline"
   ]
  },
  {
   "cell_type": "code",
   "execution_count": 68,
   "metadata": {},
   "outputs": [
    {
     "data": {
      "text/plain": [
       "(array([8.23185931, 8.14618973, 8.05752498, 7.96589645, 7.87134992,\n",
       "        7.7739461 , 7.67376099, 7.57088602, 7.46542815, 7.35750965,\n",
       "        7.24726781, 7.13485437, 7.02043478, 6.90418728, 6.78630178,\n",
       "        6.66697861, 6.54642701, 6.42486366, 6.30251093, 6.17959516]),\n",
       " array([0.01, 0.02, 0.03, 0.04, 0.05, 0.06, 0.07, 0.08, 0.09, 0.1 , 0.11,\n",
       "        0.12, 0.13, 0.14, 0.15, 0.16, 0.17, 0.18, 0.19, 0.2 ]))"
      ]
     },
     "execution_count": 68,
     "metadata": {},
     "output_type": "execute_result"
    },
    {
     "data": {
      "image/png": "[encoded data removed]",
      "text/plain": [
       "<Figure size 432x288 with 1 Axes>"
      ]
     },
     "metadata": {
      "needs_background": "light"
     },
     "output_type": "display_data"
    }
   ],
   "source": [
    "\n",
    "#define the function\n",
    "\n",
    "def Bond_Dur(m,T,cpr,dr,FV):\n",
    "    coupon=cpr*FV/m\n",
    "    BV=FV/(1+dr/m)**(m*T)\n",
    "    for i in range(1,m*T+1):\n",
    "        BV=(cpr*FV/m)/(1+dr/m)**(i)+BV\n",
    "        \n",
    "    Dur=FV*T*(1+dr/m)**(-m*T)\n",
    "    for i in range(1,m*T+1):\n",
    "        Dur=Dur+coupon*(i/m)*(1+dr/m)**(-i)\n",
    "    Dur=Dur/BV\n",
    "    return Dur\n",
    "\n",
    "m=2 #coupon frequcny\n",
    "T=10 #maturity\n",
    "FV=1000 #bond face value\n",
    "cpr=0.055 #coupon rate\n",
    "dr=r  #discount rate\n",
    "\n",
    "#draw the graph\n",
    "fig=plt.figure()\n",
    "ax=plt.axes()\n",
    "\n",
    "r=np.linspace(0.01,0.20,20)\n",
    "ax.plot(r,Bond_Dur(m,T,cpr,dr,FV))\n",
    "\n",
    "Bond_Dur(m,T,cpr,dr,FV),r"
   ]
  },
  {
   "cell_type": "code",
   "execution_count": 56,
   "metadata": {},
   "outputs": [
    {
     "data": {
      "text/plain": [
       "(1000.0000000000015, 7.98944567139399)"
      ]
     },
     "execution_count": 56,
     "metadata": {},
     "output_type": "execute_result"
    }
   ],
   "source": [
    "Bond_Dur(2,10,0.05,0.05,1000)"
   ]
  },
  {
   "cell_type": "code",
   "execution_count": 57,
   "metadata": {},
   "outputs": [],
   "source": [
    "def Bond_convexity(m,T,cpr,dr,FV):\n",
    "    BV=FV/(1+dr/m)**(m*T)\n",
    "    for i in range(1,m*T+1):\n",
    "        BV=(cpr*FV/m)/(1+dr/m)**(i)+BV\n",
    "    convexity=(FV/BV)*((m*T*(m*T+1))/(1+dr/m)**(m*T+2))\n",
    "    for i in range(1,m*T+1):\n",
    "        convexity=convexity+(cpr*FV/m/BV)*((i*(i+1))/(1+dr/m)**(i+2))\n",
    "    return BV,convexity"
   ]
  },
  {
   "cell_type": "code",
   "execution_count": 58,
   "metadata": {},
   "outputs": [
    {
     "data": {
      "text/plain": [
       "(960.2728673391492, 9.906018070646114)"
      ]
     },
     "execution_count": 58,
     "metadata": {},
     "output_type": "execute_result"
    }
   ],
   "source": [
    "Bond_convexity(1,3,0.05,0.065,1000)"
   ]
  },
  {
   "cell_type": "code",
   "execution_count": null,
   "metadata": {},
   "outputs": [],
   "source": []
  }
 ],
 "metadata": {
  "kernelspec": {
   "display_name": "Python 3",
   "language": "python",
   "name": "python3"
  },
  "language_info": {
   "codemirror_mode": {
    "name": "ipython",
    "version": 3
   },
   "file_extension": ".py",
   "mimetype": "text/x-python",
   "name": "python",
   "nbconvert_exporter": "python",
   "pygments_lexer": "ipython3",
   "version": "3.8.5"
  }
 },
 "nbformat": 4,
 "nbformat_minor": 4
}
